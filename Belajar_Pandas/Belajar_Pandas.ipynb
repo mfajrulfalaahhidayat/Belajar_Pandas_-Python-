{
 "cells": [
  {
   "cell_type": "markdown",
   "id": "48f5a110",
   "metadata": {},
   "source": [
    "import library pandas"
   ]
  },
  {
   "cell_type": "code",
   "execution_count": null,
   "id": "e5552041",
   "metadata": {},
   "outputs": [],
   "source": [
    "import pandas as pds"
   ]
  },
  {
   "cell_type": "markdown",
   "id": "475a1f8c",
   "metadata": {},
   "source": [
    "import file"
   ]
  },
  {
   "cell_type": "code",
   "execution_count": 4,
   "id": "ff935b25",
   "metadata": {},
   "outputs": [],
   "source": [
    "aapl = pds.read_csv('aapl.csv', index_col=0, parse_dates=True)"
   ]
  },
  {
   "cell_type": "markdown",
   "id": "af528316",
   "metadata": {},
   "source": [
    "show jumlah baris dan kolom data aapl.csv"
   ]
  },
  {
   "cell_type": "code",
   "execution_count": 5,
   "id": "b90de1ed",
   "metadata": {},
   "outputs": [
    {
     "data": {
      "text/plain": [
       "(6081, 6)"
      ]
     },
     "execution_count": 5,
     "metadata": {},
     "output_type": "execute_result"
    }
   ],
   "source": [
    "aapl.shape"
   ]
  },
  {
   "cell_type": "markdown",
   "id": "998c3d87",
   "metadata": {},
   "source": [
    "show nama kolom pada data aapl.csv"
   ]
  },
  {
   "cell_type": "code",
   "execution_count": 6,
   "id": "3794ea57",
   "metadata": {},
   "outputs": [
    {
     "data": {
      "text/plain": [
       "Index(['Open', 'High', 'Low', 'Close', 'Volume', 'Adj Close'], dtype='object')"
      ]
     },
     "execution_count": 6,
     "metadata": {},
     "output_type": "execute_result"
    }
   ],
   "source": [
    "aapl.columns"
   ]
  },
  {
   "cell_type": "markdown",
   "id": "06b98568",
   "metadata": {},
   "source": [
    "show index keseluruhan"
   ]
  },
  {
   "cell_type": "code",
   "execution_count": 7,
   "id": "05a0c87a",
   "metadata": {},
   "outputs": [
    {
     "data": {
      "text/plain": [
       "DatetimeIndex(['1984-09-07', '1984-09-10', '1984-09-11', '1984-09-12',\n",
       "               '1984-09-13', '1984-09-14', '1984-09-17', '1984-09-18',\n",
       "               '1984-09-19', '1984-09-20',\n",
       "               ...\n",
       "               '2008-10-01', '2008-10-02', '2008-10-03', '2008-10-06',\n",
       "               '2008-10-07', '2008-10-08', '2008-10-09', '2008-10-10',\n",
       "               '2008-10-13', '2008-10-14'],\n",
       "              dtype='datetime64[ns]', name='Date', length=6081, freq=None)"
      ]
     },
     "execution_count": 7,
     "metadata": {},
     "output_type": "execute_result"
    }
   ],
   "source": [
    "aapl.index"
   ]
  },
  {
   "cell_type": "markdown",
   "id": "9a85ba4b",
   "metadata": {},
   "source": [
    "show data aapl.csv pada kolom \"High\""
   ]
  },
  {
   "cell_type": "code",
   "execution_count": 8,
   "id": "5880fae7",
   "metadata": {},
   "outputs": [
    {
     "data": {
      "text/plain": [
       "Date\n",
       "1984-09-07     26.87\n",
       "1984-09-10     26.62\n",
       "1984-09-11     27.37\n",
       "1984-09-12     27.00\n",
       "1984-09-13     27.62\n",
       "               ...  \n",
       "2008-10-08     96.33\n",
       "2008-10-09     95.80\n",
       "2008-10-10    100.00\n",
       "2008-10-13    110.53\n",
       "2008-10-14    116.40\n",
       "Name: High, Length: 6081, dtype: float64"
      ]
     },
     "execution_count": 8,
     "metadata": {},
     "output_type": "execute_result"
    }
   ],
   "source": [
    "aapl['High']"
   ]
  },
  {
   "cell_type": "markdown",
   "id": "8c2b2687",
   "metadata": {},
   "source": [
    "show data aapl.csv pada kolom \"High\" dan \"Low\""
   ]
  },
  {
   "cell_type": "code",
   "execution_count": 9,
   "id": "54605539",
   "metadata": {},
   "outputs": [
    {
     "data": {
      "text/html": [
       "<div>\n",
       "<style scoped>\n",
       "    .dataframe tbody tr th:only-of-type {\n",
       "        vertical-align: middle;\n",
       "    }\n",
       "\n",
       "    .dataframe tbody tr th {\n",
       "        vertical-align: top;\n",
       "    }\n",
       "\n",
       "    .dataframe thead th {\n",
       "        text-align: right;\n",
       "    }\n",
       "</style>\n",
       "<table border=\"1\" class=\"dataframe\">\n",
       "  <thead>\n",
       "    <tr style=\"text-align: right;\">\n",
       "      <th></th>\n",
       "      <th>High</th>\n",
       "      <th>Low</th>\n",
       "    </tr>\n",
       "    <tr>\n",
       "      <th>Date</th>\n",
       "      <th></th>\n",
       "      <th></th>\n",
       "    </tr>\n",
       "  </thead>\n",
       "  <tbody>\n",
       "    <tr>\n",
       "      <th>1984-09-07</th>\n",
       "      <td>26.87</td>\n",
       "      <td>26.25</td>\n",
       "    </tr>\n",
       "    <tr>\n",
       "      <th>1984-09-10</th>\n",
       "      <td>26.62</td>\n",
       "      <td>25.87</td>\n",
       "    </tr>\n",
       "    <tr>\n",
       "      <th>1984-09-11</th>\n",
       "      <td>27.37</td>\n",
       "      <td>26.62</td>\n",
       "    </tr>\n",
       "    <tr>\n",
       "      <th>1984-09-12</th>\n",
       "      <td>27.00</td>\n",
       "      <td>26.12</td>\n",
       "    </tr>\n",
       "    <tr>\n",
       "      <th>1984-09-13</th>\n",
       "      <td>27.62</td>\n",
       "      <td>27.50</td>\n",
       "    </tr>\n",
       "    <tr>\n",
       "      <th>...</th>\n",
       "      <td>...</td>\n",
       "      <td>...</td>\n",
       "    </tr>\n",
       "    <tr>\n",
       "      <th>2008-10-08</th>\n",
       "      <td>96.33</td>\n",
       "      <td>85.68</td>\n",
       "    </tr>\n",
       "    <tr>\n",
       "      <th>2008-10-09</th>\n",
       "      <td>95.80</td>\n",
       "      <td>86.60</td>\n",
       "    </tr>\n",
       "    <tr>\n",
       "      <th>2008-10-10</th>\n",
       "      <td>100.00</td>\n",
       "      <td>85.00</td>\n",
       "    </tr>\n",
       "    <tr>\n",
       "      <th>2008-10-13</th>\n",
       "      <td>110.53</td>\n",
       "      <td>101.02</td>\n",
       "    </tr>\n",
       "    <tr>\n",
       "      <th>2008-10-14</th>\n",
       "      <td>116.40</td>\n",
       "      <td>103.14</td>\n",
       "    </tr>\n",
       "  </tbody>\n",
       "</table>\n",
       "<p>6081 rows × 2 columns</p>\n",
       "</div>"
      ],
      "text/plain": [
       "              High     Low\n",
       "Date                      \n",
       "1984-09-07   26.87   26.25\n",
       "1984-09-10   26.62   25.87\n",
       "1984-09-11   27.37   26.62\n",
       "1984-09-12   27.00   26.12\n",
       "1984-09-13   27.62   27.50\n",
       "...            ...     ...\n",
       "2008-10-08   96.33   85.68\n",
       "2008-10-09   95.80   86.60\n",
       "2008-10-10  100.00   85.00\n",
       "2008-10-13  110.53  101.02\n",
       "2008-10-14  116.40  103.14\n",
       "\n",
       "[6081 rows x 2 columns]"
      ]
     },
     "execution_count": 9,
     "metadata": {},
     "output_type": "execute_result"
    }
   ],
   "source": [
    "aapl[['High', 'Low']]"
   ]
  },
  {
   "cell_type": "markdown",
   "id": "e8c65e50",
   "metadata": {},
   "source": [
    "show data pada baris pertama di setiap kolom (index ke- 0)"
   ]
  },
  {
   "cell_type": "code",
   "execution_count": 10,
   "id": "1f2d8502",
   "metadata": {},
   "outputs": [
    {
     "data": {
      "text/plain": [
       "Open              26.50\n",
       "High              26.87\n",
       "Low               26.25\n",
       "Close             26.50\n",
       "Volume       2981600.00\n",
       "Adj Close          3.02\n",
       "Name: 1984-09-07 00:00:00, dtype: float64"
      ]
     },
     "execution_count": 10,
     "metadata": {},
     "output_type": "execute_result"
    }
   ],
   "source": [
    "aapl.iloc[0]"
   ]
  },
  {
   "cell_type": "markdown",
   "id": "d0633195",
   "metadata": {},
   "source": [
    "show data pada baris pertama hingga baris kelima (index ke 0 - index ke 4)"
   ]
  },
  {
   "cell_type": "code",
   "execution_count": 11,
   "id": "1c73f991",
   "metadata": {},
   "outputs": [
    {
     "data": {
      "text/html": [
       "<div>\n",
       "<style scoped>\n",
       "    .dataframe tbody tr th:only-of-type {\n",
       "        vertical-align: middle;\n",
       "    }\n",
       "\n",
       "    .dataframe tbody tr th {\n",
       "        vertical-align: top;\n",
       "    }\n",
       "\n",
       "    .dataframe thead th {\n",
       "        text-align: right;\n",
       "    }\n",
       "</style>\n",
       "<table border=\"1\" class=\"dataframe\">\n",
       "  <thead>\n",
       "    <tr style=\"text-align: right;\">\n",
       "      <th></th>\n",
       "      <th>Open</th>\n",
       "      <th>High</th>\n",
       "      <th>Low</th>\n",
       "      <th>Close</th>\n",
       "      <th>Volume</th>\n",
       "      <th>Adj Close</th>\n",
       "    </tr>\n",
       "    <tr>\n",
       "      <th>Date</th>\n",
       "      <th></th>\n",
       "      <th></th>\n",
       "      <th></th>\n",
       "      <th></th>\n",
       "      <th></th>\n",
       "      <th></th>\n",
       "    </tr>\n",
       "  </thead>\n",
       "  <tbody>\n",
       "    <tr>\n",
       "      <th>1984-09-07</th>\n",
       "      <td>26.50</td>\n",
       "      <td>26.87</td>\n",
       "      <td>26.25</td>\n",
       "      <td>26.50</td>\n",
       "      <td>2981600</td>\n",
       "      <td>3.02</td>\n",
       "    </tr>\n",
       "    <tr>\n",
       "      <th>1984-09-10</th>\n",
       "      <td>26.50</td>\n",
       "      <td>26.62</td>\n",
       "      <td>25.87</td>\n",
       "      <td>26.37</td>\n",
       "      <td>2346400</td>\n",
       "      <td>3.01</td>\n",
       "    </tr>\n",
       "    <tr>\n",
       "      <th>1984-09-11</th>\n",
       "      <td>26.62</td>\n",
       "      <td>27.37</td>\n",
       "      <td>26.62</td>\n",
       "      <td>26.87</td>\n",
       "      <td>5444000</td>\n",
       "      <td>3.07</td>\n",
       "    </tr>\n",
       "    <tr>\n",
       "      <th>1984-09-12</th>\n",
       "      <td>26.87</td>\n",
       "      <td>27.00</td>\n",
       "      <td>26.12</td>\n",
       "      <td>26.12</td>\n",
       "      <td>4773600</td>\n",
       "      <td>2.98</td>\n",
       "    </tr>\n",
       "    <tr>\n",
       "      <th>1984-09-13</th>\n",
       "      <td>27.50</td>\n",
       "      <td>27.62</td>\n",
       "      <td>27.50</td>\n",
       "      <td>27.50</td>\n",
       "      <td>7429600</td>\n",
       "      <td>3.14</td>\n",
       "    </tr>\n",
       "  </tbody>\n",
       "</table>\n",
       "</div>"
      ],
      "text/plain": [
       "             Open   High    Low  Close   Volume  Adj Close\n",
       "Date                                                      \n",
       "1984-09-07  26.50  26.87  26.25  26.50  2981600       3.02\n",
       "1984-09-10  26.50  26.62  25.87  26.37  2346400       3.01\n",
       "1984-09-11  26.62  27.37  26.62  26.87  5444000       3.07\n",
       "1984-09-12  26.87  27.00  26.12  26.12  4773600       2.98\n",
       "1984-09-13  27.50  27.62  27.50  27.50  7429600       3.14"
      ]
     },
     "execution_count": 11,
     "metadata": {},
     "output_type": "execute_result"
    }
   ],
   "source": [
    "aapl.iloc[0:5]"
   ]
  },
  {
   "cell_type": "markdown",
   "id": "eace0f1d",
   "metadata": {},
   "source": [
    "show data pada baris pertama hingga baris kelima (index ke 0 - index ke 4) dengan menampilkan kolom \"Volume\" dan \"Adj Close\" saja"
   ]
  },
  {
   "cell_type": "code",
   "execution_count": 23,
   "id": "ad3cf288",
   "metadata": {},
   "outputs": [
    {
     "data": {
      "text/html": [
       "<div>\n",
       "<style scoped>\n",
       "    .dataframe tbody tr th:only-of-type {\n",
       "        vertical-align: middle;\n",
       "    }\n",
       "\n",
       "    .dataframe tbody tr th {\n",
       "        vertical-align: top;\n",
       "    }\n",
       "\n",
       "    .dataframe thead th {\n",
       "        text-align: right;\n",
       "    }\n",
       "</style>\n",
       "<table border=\"1\" class=\"dataframe\">\n",
       "  <thead>\n",
       "    <tr style=\"text-align: right;\">\n",
       "      <th></th>\n",
       "      <th>Volume</th>\n",
       "      <th>Adj Close</th>\n",
       "    </tr>\n",
       "    <tr>\n",
       "      <th>Date</th>\n",
       "      <th></th>\n",
       "      <th></th>\n",
       "    </tr>\n",
       "  </thead>\n",
       "  <tbody>\n",
       "    <tr>\n",
       "      <th>1984-09-07</th>\n",
       "      <td>2981600</td>\n",
       "      <td>3.02</td>\n",
       "    </tr>\n",
       "    <tr>\n",
       "      <th>1984-09-10</th>\n",
       "      <td>2346400</td>\n",
       "      <td>3.01</td>\n",
       "    </tr>\n",
       "    <tr>\n",
       "      <th>1984-09-11</th>\n",
       "      <td>5444000</td>\n",
       "      <td>3.07</td>\n",
       "    </tr>\n",
       "    <tr>\n",
       "      <th>1984-09-12</th>\n",
       "      <td>4773600</td>\n",
       "      <td>2.98</td>\n",
       "    </tr>\n",
       "    <tr>\n",
       "      <th>1984-09-13</th>\n",
       "      <td>7429600</td>\n",
       "      <td>3.14</td>\n",
       "    </tr>\n",
       "  </tbody>\n",
       "</table>\n",
       "</div>"
      ],
      "text/plain": [
       "             Volume  Adj Close\n",
       "Date                          \n",
       "1984-09-07  2981600       3.02\n",
       "1984-09-10  2346400       3.01\n",
       "1984-09-11  5444000       3.07\n",
       "1984-09-12  4773600       2.98\n",
       "1984-09-13  7429600       3.14"
      ]
     },
     "execution_count": 23,
     "metadata": {},
     "output_type": "execute_result"
    }
   ],
   "source": [
    "aapl.iloc[0:5, 4:6]"
   ]
  },
  {
   "cell_type": "markdown",
   "id": "56f573d0",
   "metadata": {},
   "source": [
    "show data berdasarkan kolom date "
   ]
  },
  {
   "cell_type": "code",
   "execution_count": 26,
   "id": "e94771c4",
   "metadata": {},
   "outputs": [
    {
     "data": {
      "text/plain": [
       "Open               34.75\n",
       "High               35.13\n",
       "Low                33.50\n",
       "Close              34.19\n",
       "Volume       10497600.00\n",
       "Adj Close           8.55\n",
       "Name: 1999-03-03 00:00:00, dtype: float64"
      ]
     },
     "execution_count": 26,
     "metadata": {},
     "output_type": "execute_result"
    }
   ],
   "source": [
    "aapl.loc['1999-03-03']"
   ]
  },
  {
   "cell_type": "markdown",
   "id": "847d38f2",
   "metadata": {},
   "source": [
    "show data berdasarkan date dari tanggal \"1999-03-03\" - \"2000-02-25\""
   ]
  },
  {
   "cell_type": "code",
   "execution_count": 29,
   "id": "8bc513a7",
   "metadata": {},
   "outputs": [
    {
     "data": {
      "text/html": [
       "<div>\n",
       "<style scoped>\n",
       "    .dataframe tbody tr th:only-of-type {\n",
       "        vertical-align: middle;\n",
       "    }\n",
       "\n",
       "    .dataframe tbody tr th {\n",
       "        vertical-align: top;\n",
       "    }\n",
       "\n",
       "    .dataframe thead th {\n",
       "        text-align: right;\n",
       "    }\n",
       "</style>\n",
       "<table border=\"1\" class=\"dataframe\">\n",
       "  <thead>\n",
       "    <tr style=\"text-align: right;\">\n",
       "      <th></th>\n",
       "      <th>Open</th>\n",
       "      <th>High</th>\n",
       "      <th>Low</th>\n",
       "      <th>Close</th>\n",
       "      <th>Volume</th>\n",
       "      <th>Adj Close</th>\n",
       "    </tr>\n",
       "    <tr>\n",
       "      <th>Date</th>\n",
       "      <th></th>\n",
       "      <th></th>\n",
       "      <th></th>\n",
       "      <th></th>\n",
       "      <th></th>\n",
       "      <th></th>\n",
       "    </tr>\n",
       "  </thead>\n",
       "  <tbody>\n",
       "    <tr>\n",
       "      <th>1999-03-03</th>\n",
       "      <td>34.75</td>\n",
       "      <td>35.13</td>\n",
       "      <td>33.50</td>\n",
       "      <td>34.19</td>\n",
       "      <td>10497600</td>\n",
       "      <td>8.55</td>\n",
       "    </tr>\n",
       "    <tr>\n",
       "      <th>1999-03-04</th>\n",
       "      <td>34.50</td>\n",
       "      <td>34.50</td>\n",
       "      <td>32.38</td>\n",
       "      <td>33.44</td>\n",
       "      <td>13137600</td>\n",
       "      <td>8.36</td>\n",
       "    </tr>\n",
       "    <tr>\n",
       "      <th>1999-03-05</th>\n",
       "      <td>34.31</td>\n",
       "      <td>34.31</td>\n",
       "      <td>32.38</td>\n",
       "      <td>33.19</td>\n",
       "      <td>16735600</td>\n",
       "      <td>8.30</td>\n",
       "    </tr>\n",
       "    <tr>\n",
       "      <th>1999-03-08</th>\n",
       "      <td>33.25</td>\n",
       "      <td>34.69</td>\n",
       "      <td>33.19</td>\n",
       "      <td>34.38</td>\n",
       "      <td>19682000</td>\n",
       "      <td>8.60</td>\n",
       "    </tr>\n",
       "    <tr>\n",
       "      <th>1999-03-09</th>\n",
       "      <td>34.31</td>\n",
       "      <td>34.38</td>\n",
       "      <td>33.50</td>\n",
       "      <td>34.13</td>\n",
       "      <td>11427600</td>\n",
       "      <td>8.53</td>\n",
       "    </tr>\n",
       "    <tr>\n",
       "      <th>...</th>\n",
       "      <td>...</td>\n",
       "      <td>...</td>\n",
       "      <td>...</td>\n",
       "      <td>...</td>\n",
       "      <td>...</td>\n",
       "      <td>...</td>\n",
       "    </tr>\n",
       "    <tr>\n",
       "      <th>2000-02-18</th>\n",
       "      <td>114.62</td>\n",
       "      <td>115.37</td>\n",
       "      <td>110.87</td>\n",
       "      <td>111.25</td>\n",
       "      <td>8346800</td>\n",
       "      <td>27.81</td>\n",
       "    </tr>\n",
       "    <tr>\n",
       "      <th>2000-02-22</th>\n",
       "      <td>110.12</td>\n",
       "      <td>116.94</td>\n",
       "      <td>106.69</td>\n",
       "      <td>113.81</td>\n",
       "      <td>15083200</td>\n",
       "      <td>28.45</td>\n",
       "    </tr>\n",
       "    <tr>\n",
       "      <th>2000-02-23</th>\n",
       "      <td>113.23</td>\n",
       "      <td>119.00</td>\n",
       "      <td>111.00</td>\n",
       "      <td>116.25</td>\n",
       "      <td>16905600</td>\n",
       "      <td>29.06</td>\n",
       "    </tr>\n",
       "    <tr>\n",
       "      <th>2000-02-24</th>\n",
       "      <td>117.31</td>\n",
       "      <td>119.12</td>\n",
       "      <td>111.75</td>\n",
       "      <td>115.20</td>\n",
       "      <td>13446400</td>\n",
       "      <td>28.80</td>\n",
       "    </tr>\n",
       "    <tr>\n",
       "      <th>2000-02-25</th>\n",
       "      <td>114.81</td>\n",
       "      <td>117.00</td>\n",
       "      <td>110.12</td>\n",
       "      <td>110.37</td>\n",
       "      <td>8908000</td>\n",
       "      <td>27.59</td>\n",
       "    </tr>\n",
       "  </tbody>\n",
       "</table>\n",
       "<p>250 rows × 6 columns</p>\n",
       "</div>"
      ],
      "text/plain": [
       "              Open    High     Low   Close    Volume  Adj Close\n",
       "Date                                                           \n",
       "1999-03-03   34.75   35.13   33.50   34.19  10497600       8.55\n",
       "1999-03-04   34.50   34.50   32.38   33.44  13137600       8.36\n",
       "1999-03-05   34.31   34.31   32.38   33.19  16735600       8.30\n",
       "1999-03-08   33.25   34.69   33.19   34.38  19682000       8.60\n",
       "1999-03-09   34.31   34.38   33.50   34.13  11427600       8.53\n",
       "...            ...     ...     ...     ...       ...        ...\n",
       "2000-02-18  114.62  115.37  110.87  111.25   8346800      27.81\n",
       "2000-02-22  110.12  116.94  106.69  113.81  15083200      28.45\n",
       "2000-02-23  113.23  119.00  111.00  116.25  16905600      29.06\n",
       "2000-02-24  117.31  119.12  111.75  115.20  13446400      28.80\n",
       "2000-02-25  114.81  117.00  110.12  110.37   8908000      27.59\n",
       "\n",
       "[250 rows x 6 columns]"
      ]
     },
     "execution_count": 29,
     "metadata": {},
     "output_type": "execute_result"
    }
   ],
   "source": [
    "aapl.loc['1999-03-03':'2000-02-26']"
   ]
  },
  {
   "cell_type": "markdown",
   "id": "d2d4fd4c",
   "metadata": {},
   "source": [
    "show data dari baris \"1999-03-03\" - \"2000-02-25\" serta menampilkan kolom \"Open\" dan \"Close\""
   ]
  },
  {
   "cell_type": "code",
   "execution_count": 31,
   "id": "defb74b5",
   "metadata": {},
   "outputs": [
    {
     "data": {
      "text/html": [
       "<div>\n",
       "<style scoped>\n",
       "    .dataframe tbody tr th:only-of-type {\n",
       "        vertical-align: middle;\n",
       "    }\n",
       "\n",
       "    .dataframe tbody tr th {\n",
       "        vertical-align: top;\n",
       "    }\n",
       "\n",
       "    .dataframe thead th {\n",
       "        text-align: right;\n",
       "    }\n",
       "</style>\n",
       "<table border=\"1\" class=\"dataframe\">\n",
       "  <thead>\n",
       "    <tr style=\"text-align: right;\">\n",
       "      <th></th>\n",
       "      <th>Open</th>\n",
       "      <th>Close</th>\n",
       "    </tr>\n",
       "    <tr>\n",
       "      <th>Date</th>\n",
       "      <th></th>\n",
       "      <th></th>\n",
       "    </tr>\n",
       "  </thead>\n",
       "  <tbody>\n",
       "    <tr>\n",
       "      <th>1999-03-03</th>\n",
       "      <td>34.75</td>\n",
       "      <td>34.19</td>\n",
       "    </tr>\n",
       "    <tr>\n",
       "      <th>1999-03-04</th>\n",
       "      <td>34.50</td>\n",
       "      <td>33.44</td>\n",
       "    </tr>\n",
       "    <tr>\n",
       "      <th>1999-03-05</th>\n",
       "      <td>34.31</td>\n",
       "      <td>33.19</td>\n",
       "    </tr>\n",
       "    <tr>\n",
       "      <th>1999-03-08</th>\n",
       "      <td>33.25</td>\n",
       "      <td>34.38</td>\n",
       "    </tr>\n",
       "    <tr>\n",
       "      <th>1999-03-09</th>\n",
       "      <td>34.31</td>\n",
       "      <td>34.13</td>\n",
       "    </tr>\n",
       "    <tr>\n",
       "      <th>...</th>\n",
       "      <td>...</td>\n",
       "      <td>...</td>\n",
       "    </tr>\n",
       "    <tr>\n",
       "      <th>2000-02-18</th>\n",
       "      <td>114.62</td>\n",
       "      <td>111.25</td>\n",
       "    </tr>\n",
       "    <tr>\n",
       "      <th>2000-02-22</th>\n",
       "      <td>110.12</td>\n",
       "      <td>113.81</td>\n",
       "    </tr>\n",
       "    <tr>\n",
       "      <th>2000-02-23</th>\n",
       "      <td>113.23</td>\n",
       "      <td>116.25</td>\n",
       "    </tr>\n",
       "    <tr>\n",
       "      <th>2000-02-24</th>\n",
       "      <td>117.31</td>\n",
       "      <td>115.20</td>\n",
       "    </tr>\n",
       "    <tr>\n",
       "      <th>2000-02-25</th>\n",
       "      <td>114.81</td>\n",
       "      <td>110.37</td>\n",
       "    </tr>\n",
       "  </tbody>\n",
       "</table>\n",
       "<p>250 rows × 2 columns</p>\n",
       "</div>"
      ],
      "text/plain": [
       "              Open   Close\n",
       "Date                      \n",
       "1999-03-03   34.75   34.19\n",
       "1999-03-04   34.50   33.44\n",
       "1999-03-05   34.31   33.19\n",
       "1999-03-08   33.25   34.38\n",
       "1999-03-09   34.31   34.13\n",
       "...            ...     ...\n",
       "2000-02-18  114.62  111.25\n",
       "2000-02-22  110.12  113.81\n",
       "2000-02-23  113.23  116.25\n",
       "2000-02-24  117.31  115.20\n",
       "2000-02-25  114.81  110.37\n",
       "\n",
       "[250 rows x 2 columns]"
      ]
     },
     "execution_count": 31,
     "metadata": {},
     "output_type": "execute_result"
    }
   ],
   "source": [
    "aapl.loc['1999-03-03':'2000-02-26', ['Open', 'Close']] "
   ]
  },
  {
   "cell_type": "markdown",
   "id": "1e003e90",
   "metadata": {},
   "source": [
    "mengetahui info seluruh data"
   ]
  },
  {
   "cell_type": "code",
   "execution_count": 32,
   "id": "85781688",
   "metadata": {},
   "outputs": [
    {
     "name": "stdout",
     "output_type": "stream",
     "text": [
      "<class 'pandas.core.frame.DataFrame'>\n",
      "DatetimeIndex: 6081 entries, 1984-09-07 to 2008-10-14\n",
      "Data columns (total 6 columns):\n",
      " #   Column     Non-Null Count  Dtype  \n",
      "---  ------     --------------  -----  \n",
      " 0   Open       6081 non-null   float64\n",
      " 1   High       6081 non-null   float64\n",
      " 2   Low        6081 non-null   float64\n",
      " 3   Close      6081 non-null   float64\n",
      " 4   Volume     6081 non-null   int64  \n",
      " 5   Adj Close  6081 non-null   float64\n",
      "dtypes: float64(5), int64(1)\n",
      "memory usage: 461.6 KB\n"
     ]
    }
   ],
   "source": [
    "aapl.info()"
   ]
  },
  {
   "cell_type": "markdown",
   "id": "49e9981d",
   "metadata": {},
   "source": [
    "import library \"matplotlib\" yang digunakan untuk menampilkan visual grafik data"
   ]
  },
  {
   "cell_type": "code",
   "execution_count": 56,
   "id": "80b4a90e",
   "metadata": {},
   "outputs": [],
   "source": [
    "import matplotlib.pyplot as plot\n",
    "%matplotlib inline"
   ]
  },
  {
   "cell_type": "code",
   "execution_count": 57,
   "id": "f8cf92d5",
   "metadata": {},
   "outputs": [
    {
     "data": {
      "text/html": [
       "<div>\n",
       "<style scoped>\n",
       "    .dataframe tbody tr th:only-of-type {\n",
       "        vertical-align: middle;\n",
       "    }\n",
       "\n",
       "    .dataframe tbody tr th {\n",
       "        vertical-align: top;\n",
       "    }\n",
       "\n",
       "    .dataframe thead th {\n",
       "        text-align: right;\n",
       "    }\n",
       "</style>\n",
       "<table border=\"1\" class=\"dataframe\">\n",
       "  <thead>\n",
       "    <tr style=\"text-align: right;\">\n",
       "      <th></th>\n",
       "      <th>Open</th>\n",
       "      <th>High</th>\n",
       "      <th>Low</th>\n",
       "      <th>Close</th>\n",
       "      <th>Volume</th>\n",
       "      <th>Adj Close</th>\n",
       "    </tr>\n",
       "    <tr>\n",
       "      <th>Date</th>\n",
       "      <th></th>\n",
       "      <th></th>\n",
       "      <th></th>\n",
       "      <th></th>\n",
       "      <th></th>\n",
       "      <th></th>\n",
       "    </tr>\n",
       "  </thead>\n",
       "  <tbody>\n",
       "    <tr>\n",
       "      <th>2008-10-08</th>\n",
       "      <td>85.91</td>\n",
       "      <td>96.33</td>\n",
       "      <td>85.68</td>\n",
       "      <td>89.79</td>\n",
       "      <td>78847900</td>\n",
       "      <td>89.79</td>\n",
       "    </tr>\n",
       "    <tr>\n",
       "      <th>2008-10-09</th>\n",
       "      <td>93.35</td>\n",
       "      <td>95.80</td>\n",
       "      <td>86.60</td>\n",
       "      <td>88.74</td>\n",
       "      <td>57763700</td>\n",
       "      <td>88.74</td>\n",
       "    </tr>\n",
       "    <tr>\n",
       "      <th>2008-10-10</th>\n",
       "      <td>85.70</td>\n",
       "      <td>100.00</td>\n",
       "      <td>85.00</td>\n",
       "      <td>96.80</td>\n",
       "      <td>79260700</td>\n",
       "      <td>96.80</td>\n",
       "    </tr>\n",
       "    <tr>\n",
       "      <th>2008-10-13</th>\n",
       "      <td>104.55</td>\n",
       "      <td>110.53</td>\n",
       "      <td>101.02</td>\n",
       "      <td>110.26</td>\n",
       "      <td>54967000</td>\n",
       "      <td>110.26</td>\n",
       "    </tr>\n",
       "    <tr>\n",
       "      <th>2008-10-14</th>\n",
       "      <td>116.26</td>\n",
       "      <td>116.40</td>\n",
       "      <td>103.14</td>\n",
       "      <td>104.08</td>\n",
       "      <td>70749800</td>\n",
       "      <td>104.08</td>\n",
       "    </tr>\n",
       "  </tbody>\n",
       "</table>\n",
       "</div>"
      ],
      "text/plain": [
       "              Open    High     Low   Close    Volume  Adj Close\n",
       "Date                                                           \n",
       "2008-10-08   85.91   96.33   85.68   89.79  78847900      89.79\n",
       "2008-10-09   93.35   95.80   86.60   88.74  57763700      88.74\n",
       "2008-10-10   85.70  100.00   85.00   96.80  79260700      96.80\n",
       "2008-10-13  104.55  110.53  101.02  110.26  54967000     110.26\n",
       "2008-10-14  116.26  116.40  103.14  104.08  70749800     104.08"
      ]
     },
     "execution_count": 57,
     "metadata": {},
     "output_type": "execute_result"
    }
   ],
   "source": [
    "aapl.tail()"
   ]
  },
  {
   "cell_type": "code",
   "execution_count": 58,
   "id": "b73052e8",
   "metadata": {},
   "outputs": [],
   "source": [
    "volume = aapl['Volume']"
   ]
  },
  {
   "cell_type": "code",
   "execution_count": 59,
   "id": "39676324",
   "metadata": {},
   "outputs": [
    {
     "data": {
      "text/plain": [
       "Date\n",
       "1984-09-07     2981600\n",
       "1984-09-10     2346400\n",
       "1984-09-11     5444000\n",
       "1984-09-12     4773600\n",
       "1984-09-13     7429600\n",
       "                ...   \n",
       "2008-10-08    78847900\n",
       "2008-10-09    57763700\n",
       "2008-10-10    79260700\n",
       "2008-10-13    54967000\n",
       "2008-10-14    70749800\n",
       "Name: Volume, Length: 6081, dtype: int64"
      ]
     },
     "execution_count": 59,
     "metadata": {},
     "output_type": "execute_result"
    }
   ],
   "source": [
    "volume"
   ]
  },
  {
   "cell_type": "markdown",
   "id": "130a5eef",
   "metadata": {},
   "source": [
    "show data grafik pada kolom \"Volume\""
   ]
  },
  {
   "cell_type": "code",
   "execution_count": 60,
   "id": "3a2d691b",
   "metadata": {},
   "outputs": [
    {
     "data": {
      "text/plain": [
       "[<matplotlib.lines.Line2D at 0x2370ef4d550>]"
      ]
     },
     "execution_count": 60,
     "metadata": {},
     "output_type": "execute_result"
    },
    {
     "data": {
      "image/png": "[encoded data removed]",
      "text/plain": [
       "<Figure size 432x288 with 1 Axes>"
      ]
     },
     "metadata": {
      "needs_background": "light"
     },
     "output_type": "display_data"
    }
   ],
   "source": [
    "plot.plot(volume)"
   ]
  },
  {
   "cell_type": "code",
   "execution_count": 61,
   "id": "7873995a",
   "metadata": {},
   "outputs": [],
   "source": [
    "plot.style.use('fivethirtyeight')"
   ]
  },
  {
   "cell_type": "code",
   "execution_count": 62,
   "id": "bf3c4969",
   "metadata": {},
   "outputs": [
    {
     "data": {
      "text/plain": [
       "[<matplotlib.lines.Line2D at 0x2370ff932b0>]"
      ]
     },
     "execution_count": 62,
     "metadata": {},
     "output_type": "execute_result"
    },
    {
     "data": {
      "image/png": "[encoded data removed]",
      "text/plain": [
       "<Figure size 432x288 with 1 Axes>"
      ]
     },
     "metadata": {},
     "output_type": "display_data"
    }
   ],
   "source": [
    "plot.plot(volume)"
   ]
  },
  {
   "cell_type": "code",
   "execution_count": 63,
   "id": "2a443b98",
   "metadata": {},
   "outputs": [],
   "source": [
    "plot.style.use('seaborn')"
   ]
  },
  {
   "cell_type": "code",
   "execution_count": 64,
   "id": "1f0dec23",
   "metadata": {},
   "outputs": [
    {
     "data": {
      "text/plain": [
       "[<matplotlib.lines.Line2D at 0x2370fff72e0>]"
      ]
     },
     "execution_count": 64,
     "metadata": {},
     "output_type": "execute_result"
    },
    {
     "data": {
      "image/png": "[encoded data removed]",
      "text/plain": [
       "<Figure size 576x396 with 1 Axes>"
      ]
     },
     "metadata": {},
     "output_type": "display_data"
    }
   ],
   "source": [
    "plot.plot(volume)"
   ]
  },
  {
   "cell_type": "code",
   "execution_count": 67,
   "id": "0948cffc",
   "metadata": {},
   "outputs": [
    {
     "data": {
      "text/plain": [
       "<AxesSubplot:xlabel='Date'>"
      ]
     },
     "execution_count": 67,
     "metadata": {},
     "output_type": "execute_result"
    },
    {
     "data": {
      "image/png": "[encoded data removed]",
      "text/plain": [
       "<Figure size 576x396 with 1 Axes>"
      ]
     },
     "metadata": {},
     "output_type": "display_data"
    }
   ],
   "source": [
    "aapl['Low'].plot()"
   ]
  },
  {
   "cell_type": "markdown",
   "id": "6237a7f0",
   "metadata": {},
   "source": [
    "show data keseluruhan menggunakan library matplotlib"
   ]
  },
  {
   "cell_type": "code",
   "execution_count": 68,
   "id": "491205cd",
   "metadata": {},
   "outputs": [
    {
     "data": {
      "text/plain": [
       "[<matplotlib.lines.Line2D at 0x237103f8e50>,\n",
       " <matplotlib.lines.Line2D at 0x237103f8fd0>,\n",
       " <matplotlib.lines.Line2D at 0x237103f8ee0>,\n",
       " <matplotlib.lines.Line2D at 0x23710404100>,\n",
       " <matplotlib.lines.Line2D at 0x23710404220>,\n",
       " <matplotlib.lines.Line2D at 0x23710404340>]"
      ]
     },
     "execution_count": 68,
     "metadata": {},
     "output_type": "execute_result"
    },
    {
     "data": {
      "image/png": "[encoded data removed]",
      "text/plain": [
       "<Figure size 576x396 with 1 Axes>"
      ]
     },
     "metadata": {},
     "output_type": "display_data"
    }
   ],
   "source": [
    "plot.plot(aapl)"
   ]
  },
  {
   "cell_type": "markdown",
   "id": "0345a121",
   "metadata": {},
   "source": [
    "show data keseluruhan menggunakan library pandas"
   ]
  },
  {
   "cell_type": "code",
   "execution_count": 69,
   "id": "c84fcaac",
   "metadata": {},
   "outputs": [
    {
     "data": {
      "text/plain": [
       "<AxesSubplot:xlabel='Date'>"
      ]
     },
     "execution_count": 69,
     "metadata": {},
     "output_type": "execute_result"
    },
    {
     "data": {
      "image/png": "[encoded data removed]",
      "text/plain": [
       "<Figure size 576x396 with 1 Axes>"
      ]
     },
     "metadata": {},
     "output_type": "display_data"
    }
   ],
   "source": [
    "aapl.plot()"
   ]
  },
  {
   "cell_type": "markdown",
   "id": "367f010e",
   "metadata": {},
   "source": [
    "baris 1 untuk menampilkan grafik Low dengan bentuk . dan warna hijau baris 2 untuk menampilkan grafik Volume dengan bentuk - dan warna merah baris 3 untuk berfungsi untuk mengatur sumbu x dan y disini sumbu xmin,xmax berupa date 1999 - 2005 dan ymin ymax berupa 0 - 200"
   ]
  },
  {
   "cell_type": "code",
   "execution_count": 74,
   "id": "46c163e4",
   "metadata": {},
   "outputs": [
    {
     "data": {
      "text/plain": [
       "(10592.0, 12784.0, 0.0, 200.0)"
      ]
     },
     "execution_count": 74,
     "metadata": {},
     "output_type": "execute_result"
    },
    {
     "data": {
      "image/png": "[encoded data removed]",
      "text/plain": [
       "<Figure size 576x396 with 1 Axes>"
      ]
     },
     "metadata": {},
     "output_type": "display_data"
    }
   ],
   "source": [
    "aapl['High'].plot(color='g', style='-', legend=True) \n",
    "aapl['Low'].plot(color='r', style='-', legend=True)\n",
    "aapl['Adj Close'].plot(color='b', style='-', legend=True)\n",
    "plot.axis(('1999', '2005', 0, 200)) "
   ]
  },
  {
   "cell_type": "markdown",
   "id": "3a5f26b6",
   "metadata": {},
   "source": [
    "show data dari tahun 1999-2005 dan kolom high, low, volume, adj close"
   ]
  },
  {
   "cell_type": "code",
   "execution_count": 82,
   "id": "27fedbb2",
   "metadata": {},
   "outputs": [
    {
     "data": {
      "text/plain": [
       "<AxesSubplot:xlabel='Date'>"
      ]
     },
     "execution_count": 82,
     "metadata": {},
     "output_type": "execute_result"
    },
    {
     "data": {
      "image/png": "[encoded data removed]",
      "text/plain": [
       "<Figure size 576x396 with 1 Axes>"
      ]
     },
     "metadata": {},
     "output_type": "display_data"
    }
   ],
   "source": [
    "aapl.loc['1999':'2008',['Open', 'Close', 'Adj Close']].plot()"
   ]
  },
  {
   "cell_type": "code",
   "execution_count": null,
   "id": "8d2d3647",
   "metadata": {},
   "outputs": [],
   "source": []
  }
 ],
 "metadata": {
  "kernelspec": {
   "display_name": "Python 3 (ipykernel)",
   "language": "python",
   "name": "python3"
  },
  "language_info": {
   "codemirror_mode": {
    "name": "ipython",
    "version": 3
   },
   "file_extension": ".py",
   "mimetype": "text/x-python",
   "name": "python",
   "nbconvert_exporter": "python",
   "pygments_lexer": "ipython3",
   "version": "3.9.7"
  }
 },
 "nbformat": 4,
 "nbformat_minor": 5
}
